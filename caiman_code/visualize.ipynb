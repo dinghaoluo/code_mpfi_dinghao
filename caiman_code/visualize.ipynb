{
 "cells": [
  {
   "cell_type": "code",
   "execution_count": null,
   "id": "1360bec3-1099-4877-b1c6-de959fa7852c",
   "metadata": {},
   "outputs": [],
   "source": [
    "import mesmerize_core as mc\n",
    "import mesmerize_viz\n",
    "from pathlib import Path\n",
    "import fastplotlib as fpl\n",
    "\n",
    "import utils as utl\n",
    "\n",
    "p_root = Path(r\"C:\\temp\\A214-20221214-02_data\\suite2p\\plane0\")\n",
    "df = utl.load_batch(p_root)\n",
    "df = df.loc[ df.loc[:, 'outputs'].apply(lambda x:x['success']) ]"
   ]
  },
  {
   "cell_type": "markdown",
   "id": "8e9a91d4",
   "metadata": {},
   "source": [
    "# Visualize batch results\n",
    "\n",
    "IMPORTANT: This must be run using Jupyter lab.\n",
    "VSCode, spyder or Jupyter notebook will likely not work. \n",
    "\n",
    "This will create a visualization using `mesmerize-viz`:\n",
    "- `input`: motion-corrected movie\n",
    "- `rcm`: component activity\n",
    "- `rcb`: background activity\n",
    "- `residuals`: everything else"
   ]
  },
  {
   "cell_type": "code",
   "execution_count": null,
   "id": "e185681e-c355-4459-921d-04a152a72449",
   "metadata": {},
   "outputs": [],
   "source": [
    "viz_cnmf = df.cnmf.viz(\n",
    "    temporal_data_option=\"zscores\",\n",
    "     image_data_options=['input', \"rcm\", \"rcb\", \"residuals\"], \n",
    "     image_widget_kwargs={'grid_shape': (1, 4), \"grid_plot_kwargs\": {\"size\": (2000, 500)}},\n",
    ")\n",
    "viz_cnmf.show()"
   ]
  }
 ],
 "metadata": {
  "kernelspec": {
   "display_name": "Python 3 (ipykernel)",
   "language": "python",
   "name": "python3"
  },
  "language_info": {
   "codemirror_mode": {
    "name": "ipython",
    "version": 3
   },
   "file_extension": ".py",
   "mimetype": "text/x-python",
   "name": "python",
   "nbconvert_exporter": "python",
   "pygments_lexer": "ipython3",
   "version": "3.10.13"
  }
 },
 "nbformat": 4,
 "nbformat_minor": 5
}
